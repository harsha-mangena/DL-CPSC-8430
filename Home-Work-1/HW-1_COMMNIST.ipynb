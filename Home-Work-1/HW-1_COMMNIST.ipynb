{
  "nbformat": 4,
  "nbformat_minor": 0,
  "metadata": {
    "colab": {
      "provenance": [],
      "gpuType": "T4"
    },
    "kernelspec": {
      "name": "python3",
      "display_name": "Python 3"
    },
    "language_info": {
      "name": "python"
    },
    "accelerator": "GPU"
  },
  "cells": [
    {
      "cell_type": "code",
      "execution_count": 1,
      "metadata": {
        "id": "UThviAMEh5rf"
      },
      "outputs": [],
      "source": [
        "import torch\n",
        "import torch.nn as nn\n",
        "import torch.optim as optim\n",
        "from torchvision import datasets, transforms\n",
        "from PIL import Image\n",
        "import torch.nn.functional as F\n",
        "import numpy as np\n",
        "import matplotlib.pyplot as plt\n",
        "import os\n"
      ]
    },
    {
      "cell_type": "code",
      "source": [
        "def load_data(train_batch_size=64, test_batch_size=1000):\n",
        "    \"\"\"\n",
        "    Load and preprocess the MNIST dataset.\n",
        "\n",
        "    Parameters:\n",
        "    - train_batch_size (int): Batch size for training data.\n",
        "    - test_batch_size (int): Batch size for test data.\n",
        "\n",
        "    Returns:\n",
        "    - tuple: Containing training and test data loaders.\n",
        "    \"\"\"\n",
        "    # Define common transformations\n",
        "    common_transforms = transforms.Compose([\n",
        "        transforms.Resize((32, 32)),\n",
        "        transforms.ToTensor(),\n",
        "        transforms.Normalize((0.1307,), (0.3081,))\n",
        "    ])\n",
        "\n",
        "    # Fetch and load training data\n",
        "    train_loader = torch.utils.data.DataLoader(\n",
        "        datasets.MNIST(root='data', train=True, download=True, transform=common_transforms),\n",
        "        batch_size=train_batch_size, shuffle=True)\n",
        "\n",
        "    # Fetch and load test data\n",
        "    test_loader = torch.utils.data.DataLoader(\n",
        "        datasets.MNIST(root='data', train=False, transform=common_transforms),\n",
        "        batch_size=test_batch_size, shuffle=True)\n",
        "\n",
        "    return train_loader, test_loader\n"
      ],
      "metadata": {
        "id": "0dHybz5jiG-f"
      },
      "execution_count": 2,
      "outputs": []
    },
    {
      "cell_type": "code",
      "source": [
        "class LeNet(nn.Module):\n",
        "    def __init__(self):\n",
        "        super(LeNet, self).__init__()\n",
        "\n",
        "        # Convolutional layers\n",
        "        self.conv_layers = nn.Sequential(\n",
        "            nn.Conv2d(1, 6, kernel_size=5),\n",
        "            nn.ReLU(),\n",
        "            nn.MaxPool2d(kernel_size=2),\n",
        "            nn.Conv2d(6, 16, kernel_size=5),\n",
        "            nn.ReLU(),\n",
        "            nn.MaxPool2d(kernel_size=2),\n",
        "        )\n",
        "\n",
        "        # Fully connected layers\n",
        "        self.fc_layers = nn.Sequential(\n",
        "            nn.Linear(16 * 5 * 5, 120),  # Assuming input images are 32x32\n",
        "            nn.ReLU(),\n",
        "            nn.Linear(120, 84),\n",
        "            nn.ReLU(),\n",
        "            nn.Linear(84, 10)\n",
        "        )\n",
        "\n",
        "    def forward(self, x):\n",
        "        x = self.conv_layers(x)\n",
        "        x = x.view(x.size(0), -1)  # Flatten the output for the fully connected layer\n",
        "        x = self.fc_layers(x)\n",
        "        return x\n"
      ],
      "metadata": {
        "id": "xo7nTZc0iwAc"
      },
      "execution_count": 3,
      "outputs": []
    },
    {
      "cell_type": "code",
      "source": [
        "class CNN(nn.Module):\n",
        "    def __init__(self, dropout_prob=0.5):\n",
        "        super(CNN, self).__init__()\n",
        "        self.conv_layers = nn.Sequential(\n",
        "            nn.Conv2d(1, 32, kernel_size=5),\n",
        "            nn.ReLU(),\n",
        "            nn.Conv2d(32, 32, kernel_size=5),\n",
        "            nn.ReLU(),\n",
        "            nn.MaxPool2d(kernel_size=2),\n",
        "            nn.Dropout(p=dropout_prob),\n",
        "            nn.Conv2d(32, 64, kernel_size=5),\n",
        "            nn.ReLU(),\n",
        "            nn.MaxPool2d(kernel_size=2),\n",
        "            nn.Dropout(p=dropout_prob)\n",
        "        )\n",
        "        self.fc_layers = nn.Sequential(\n",
        "            nn.Linear(1024, 256),  # Update this based on your input size calculation\n",
        "            nn.ReLU(),\n",
        "            nn.Dropout(p=dropout_prob),\n",
        "            nn.Linear(256, 10)\n",
        "        )\n",
        "\n",
        "    def forward(self, x):\n",
        "        x = self.conv_layers(x)\n",
        "        x = x.view(x.size(0), -1)  # Flatten the output for the fully connected layers\n",
        "        x = self.fc_layers(x)\n",
        "        return F.log_softmax(x, dim=1)\n",
        "\n",
        "    def _initialize_weights(self):\n",
        "        for m in self.modules():\n",
        "            if isinstance(m, nn.Conv2d) or isinstance(m, nn.Linear):\n",
        "                nn.init.kaiming_uniform_(m.weight, mode='fan_in', nonlinearity='relu')\n",
        "                if m.bias is not None:\n",
        "                    nn.init.constant_(m.bias, 0)\n"
      ],
      "metadata": {
        "id": "6ZcR8msFix7o"
      },
      "execution_count": 4,
      "outputs": []
    },
    {
      "cell_type": "code",
      "source": [
        "train_batch_size = 64\n",
        "test_batch_size = 1000\n",
        "train_loader, test_loader = load_data(train_batch_size, test_batch_size)"
      ],
      "metadata": {
        "colab": {
          "base_uri": "https://localhost:8080/"
        },
        "id": "dkC2G6qujRZs",
        "outputId": "13fd5d46-878a-49ab-992b-3d6d8adb3304"
      },
      "execution_count": 5,
      "outputs": [
        {
          "output_type": "stream",
          "name": "stdout",
          "text": [
            "Downloading http://yann.lecun.com/exdb/mnist/train-images-idx3-ubyte.gz\n",
            "Downloading http://yann.lecun.com/exdb/mnist/train-images-idx3-ubyte.gz to data/MNIST/raw/train-images-idx3-ubyte.gz\n"
          ]
        },
        {
          "output_type": "stream",
          "name": "stderr",
          "text": [
            "100%|██████████| 9912422/9912422 [00:00<00:00, 77653986.19it/s]\n"
          ]
        },
        {
          "output_type": "stream",
          "name": "stdout",
          "text": [
            "Extracting data/MNIST/raw/train-images-idx3-ubyte.gz to data/MNIST/raw\n",
            "\n",
            "Downloading http://yann.lecun.com/exdb/mnist/train-labels-idx1-ubyte.gz\n",
            "Downloading http://yann.lecun.com/exdb/mnist/train-labels-idx1-ubyte.gz to data/MNIST/raw/train-labels-idx1-ubyte.gz\n"
          ]
        },
        {
          "output_type": "stream",
          "name": "stderr",
          "text": [
            "100%|██████████| 28881/28881 [00:00<00:00, 37961671.52it/s]\n"
          ]
        },
        {
          "output_type": "stream",
          "name": "stdout",
          "text": [
            "Extracting data/MNIST/raw/train-labels-idx1-ubyte.gz to data/MNIST/raw\n",
            "\n",
            "Downloading http://yann.lecun.com/exdb/mnist/t10k-images-idx3-ubyte.gz\n",
            "Downloading http://yann.lecun.com/exdb/mnist/t10k-images-idx3-ubyte.gz to data/MNIST/raw/t10k-images-idx3-ubyte.gz\n"
          ]
        },
        {
          "output_type": "stream",
          "name": "stderr",
          "text": [
            "100%|██████████| 1648877/1648877 [00:00<00:00, 24036713.90it/s]\n"
          ]
        },
        {
          "output_type": "stream",
          "name": "stdout",
          "text": [
            "Extracting data/MNIST/raw/t10k-images-idx3-ubyte.gz to data/MNIST/raw\n",
            "\n",
            "Downloading http://yann.lecun.com/exdb/mnist/t10k-labels-idx1-ubyte.gz\n",
            "Downloading http://yann.lecun.com/exdb/mnist/t10k-labels-idx1-ubyte.gz to data/MNIST/raw/t10k-labels-idx1-ubyte.gz\n"
          ]
        },
        {
          "output_type": "stream",
          "name": "stderr",
          "text": [
            "100%|██████████| 4542/4542 [00:00<00:00, 10490379.28it/s]\n"
          ]
        },
        {
          "output_type": "stream",
          "name": "stdout",
          "text": [
            "Extracting data/MNIST/raw/t10k-labels-idx1-ubyte.gz to data/MNIST/raw\n",
            "\n"
          ]
        }
      ]
    },
    {
      "cell_type": "code",
      "source": [
        "def train(model, optimizer, epoch, train_loader, log_interval):\n",
        "    model.train()  # Set the model to training mode\n",
        "    loss_fn = torch.nn.CrossEntropyLoss()\n",
        "    total_correct = 0\n",
        "    total_loss = 0\n",
        "    total_samples = 0\n",
        "\n",
        "    for batch_idx, (data, target) in enumerate(train_loader):\n",
        "        optimizer.zero_grad()  # Reset gradients for each batch\n",
        "\n",
        "        # Forward pass\n",
        "        output = model(data)\n",
        "        loss = loss_fn(output, target)\n",
        "        loss.backward()  # Backpropagation\n",
        "        optimizer.step()  # Update model parameters\n",
        "\n",
        "        total_loss += loss.item()  # Aggregate the loss\n",
        "\n",
        "        # Calculate accuracy\n",
        "        _, predicted = torch.max(output.data, 1)\n",
        "        total_samples += target.size(0)\n",
        "        total_correct += (predicted == target).sum().item()\n",
        "\n",
        "        # Logging\n",
        "        if batch_idx % log_interval == 0:\n",
        "            print(f'Train Epoch: {epoch} [{batch_idx * len(data)}/{len(train_loader.dataset)}'\n",
        "                  f' ({100. * batch_idx / len(train_loader):.0f}%)]\\tLoss: {loss.item():.6f}')\n",
        "\n",
        "    average_loss = total_loss / len(train_loader)\n",
        "    accuracy = 100. * total_correct / total_samples\n",
        "    print(f\"Training Loss: {average_loss:.4f}, Accuracy: {accuracy:.2f}%\")\n",
        "\n",
        "    return average_loss, accuracy\n"
      ],
      "metadata": {
        "id": "3EWhBh61jU1Z"
      },
      "execution_count": 6,
      "outputs": []
    },
    {
      "cell_type": "code",
      "source": [
        "def test(model, epoch, test_loader):\n",
        "    model.eval()  # Set the model to evaluation mode\n",
        "    test_loss = 0\n",
        "    correct = 0\n",
        "\n",
        "    loss_fn = torch.nn.CrossEntropyLoss(reduction='sum')\n",
        "\n",
        "    with torch.no_grad():  # Disable gradient calculation\n",
        "        for data, target in test_loader:\n",
        "            output = model(data)\n",
        "            test_loss += loss_fn(output, target).item()  # Sum up batch loss\n",
        "\n",
        "            pred = output.argmax(dim=1, keepdim=True)  # Get the index of the max log-probability\n",
        "            correct += pred.eq(target.view_as(pred)).sum().item()\n",
        "\n",
        "    test_loss /= len(test_loader.dataset)\n",
        "    accuracy = 100. * correct / len(test_loader.dataset)\n",
        "\n",
        "    print(f'\\nTest set, Epoch {epoch}, Average loss: {test_loss:.4f}, '\n",
        "          f'Accuracy: {correct}/{len(test_loader.dataset)} ({accuracy:.0f}%)\\n')\n"
      ],
      "metadata": {
        "id": "dNz9ibW8jsgf"
      },
      "execution_count": 8,
      "outputs": []
    },
    {
      "cell_type": "code",
      "source": [
        "torch.manual_seed(1)\n",
        "model= LeNet()\n",
        "\n",
        "lr = 0.01\n",
        "momentum = 0.5\n",
        "optimizer = optim.SGD(model.parameters(), lr, momentum)\n",
        "m0_loss_arr = []\n",
        "m0_acc_arr = []\n",
        "\n",
        "epochs = 10\n",
        "log_interval = 200\n",
        "for epoch in range(1, epochs + 1):\n",
        "    loss, acc = train(model, optimizer, epoch, train_loader, log_interval)\n",
        "    m0_loss_arr.append(loss)\n",
        "    m0_acc_arr.append(acc)\n",
        "    test(model, epoch, test_loader)"
      ],
      "metadata": {
        "colab": {
          "base_uri": "https://localhost:8080/"
        },
        "id": "DL1PaDzijuH8",
        "outputId": "262d9a11-1dac-4669-c680-382940ea4a48"
      },
      "execution_count": 10,
      "outputs": [
        {
          "output_type": "stream",
          "name": "stdout",
          "text": [
            "Train Epoch: 1 [0/60000 (0%)]\tLoss: 2.322258\n",
            "Train Epoch: 1 [12800/60000 (21%)]\tLoss: 0.386213\n",
            "Train Epoch: 1 [25600/60000 (43%)]\tLoss: 0.317166\n",
            "Train Epoch: 1 [38400/60000 (64%)]\tLoss: 0.253307\n",
            "Train Epoch: 1 [51200/60000 (85%)]\tLoss: 0.247413\n",
            "Training Loss: 0.5748, Accuracy: 81.59%\n",
            "\n",
            "Test set, Epoch 1, Average loss: 0.1374, Accuracy: 9592/10000 (96%)\n",
            "\n",
            "Train Epoch: 2 [0/60000 (0%)]\tLoss: 0.158090\n",
            "Train Epoch: 2 [12800/60000 (21%)]\tLoss: 0.139174\n",
            "Train Epoch: 2 [25600/60000 (43%)]\tLoss: 0.365055\n",
            "Train Epoch: 2 [38400/60000 (64%)]\tLoss: 0.091991\n",
            "Train Epoch: 2 [51200/60000 (85%)]\tLoss: 0.108601\n",
            "Training Loss: 0.1219, Accuracy: 96.26%\n",
            "\n",
            "Test set, Epoch 2, Average loss: 0.0790, Accuracy: 9757/10000 (98%)\n",
            "\n",
            "Train Epoch: 3 [0/60000 (0%)]\tLoss: 0.027724\n",
            "Train Epoch: 3 [12800/60000 (21%)]\tLoss: 0.080616\n",
            "Train Epoch: 3 [25600/60000 (43%)]\tLoss: 0.040897\n",
            "Train Epoch: 3 [38400/60000 (64%)]\tLoss: 0.037093\n",
            "Train Epoch: 3 [51200/60000 (85%)]\tLoss: 0.076086\n",
            "Training Loss: 0.0820, Accuracy: 97.45%\n",
            "\n",
            "Test set, Epoch 3, Average loss: 0.0671, Accuracy: 9783/10000 (98%)\n",
            "\n",
            "Train Epoch: 4 [0/60000 (0%)]\tLoss: 0.106005\n",
            "Train Epoch: 4 [12800/60000 (21%)]\tLoss: 0.147512\n",
            "Train Epoch: 4 [25600/60000 (43%)]\tLoss: 0.080983\n",
            "Train Epoch: 4 [38400/60000 (64%)]\tLoss: 0.188253\n",
            "Train Epoch: 4 [51200/60000 (85%)]\tLoss: 0.078048\n",
            "Training Loss: 0.0629, Accuracy: 98.05%\n",
            "\n",
            "Test set, Epoch 4, Average loss: 0.0521, Accuracy: 9833/10000 (98%)\n",
            "\n",
            "Train Epoch: 5 [0/60000 (0%)]\tLoss: 0.013803\n",
            "Train Epoch: 5 [12800/60000 (21%)]\tLoss: 0.029133\n",
            "Train Epoch: 5 [25600/60000 (43%)]\tLoss: 0.082602\n",
            "Train Epoch: 5 [38400/60000 (64%)]\tLoss: 0.007219\n",
            "Train Epoch: 5 [51200/60000 (85%)]\tLoss: 0.010478\n",
            "Training Loss: 0.0515, Accuracy: 98.41%\n",
            "\n",
            "Test set, Epoch 5, Average loss: 0.0480, Accuracy: 9848/10000 (98%)\n",
            "\n",
            "Train Epoch: 6 [0/60000 (0%)]\tLoss: 0.045078\n",
            "Train Epoch: 6 [12800/60000 (21%)]\tLoss: 0.090652\n",
            "Train Epoch: 6 [25600/60000 (43%)]\tLoss: 0.017117\n",
            "Train Epoch: 6 [38400/60000 (64%)]\tLoss: 0.009478\n",
            "Train Epoch: 6 [51200/60000 (85%)]\tLoss: 0.087211\n",
            "Training Loss: 0.0447, Accuracy: 98.61%\n",
            "\n",
            "Test set, Epoch 6, Average loss: 0.0398, Accuracy: 9880/10000 (99%)\n",
            "\n",
            "Train Epoch: 7 [0/60000 (0%)]\tLoss: 0.056315\n",
            "Train Epoch: 7 [12800/60000 (21%)]\tLoss: 0.032326\n",
            "Train Epoch: 7 [25600/60000 (43%)]\tLoss: 0.024520\n",
            "Train Epoch: 7 [38400/60000 (64%)]\tLoss: 0.017663\n",
            "Train Epoch: 7 [51200/60000 (85%)]\tLoss: 0.006040\n",
            "Training Loss: 0.0387, Accuracy: 98.74%\n",
            "\n",
            "Test set, Epoch 7, Average loss: 0.0418, Accuracy: 9871/10000 (99%)\n",
            "\n",
            "Train Epoch: 8 [0/60000 (0%)]\tLoss: 0.043521\n",
            "Train Epoch: 8 [12800/60000 (21%)]\tLoss: 0.006067\n",
            "Train Epoch: 8 [25600/60000 (43%)]\tLoss: 0.014165\n",
            "Train Epoch: 8 [38400/60000 (64%)]\tLoss: 0.066795\n",
            "Train Epoch: 8 [51200/60000 (85%)]\tLoss: 0.020275\n",
            "Training Loss: 0.0352, Accuracy: 98.90%\n",
            "\n",
            "Test set, Epoch 8, Average loss: 0.0378, Accuracy: 9889/10000 (99%)\n",
            "\n",
            "Train Epoch: 9 [0/60000 (0%)]\tLoss: 0.005274\n",
            "Train Epoch: 9 [12800/60000 (21%)]\tLoss: 0.001324\n",
            "Train Epoch: 9 [25600/60000 (43%)]\tLoss: 0.032189\n",
            "Train Epoch: 9 [38400/60000 (64%)]\tLoss: 0.015996\n",
            "Train Epoch: 9 [51200/60000 (85%)]\tLoss: 0.003699\n",
            "Training Loss: 0.0312, Accuracy: 99.02%\n",
            "\n",
            "Test set, Epoch 9, Average loss: 0.0431, Accuracy: 9873/10000 (99%)\n",
            "\n",
            "Train Epoch: 10 [0/60000 (0%)]\tLoss: 0.004234\n",
            "Train Epoch: 10 [12800/60000 (21%)]\tLoss: 0.011249\n",
            "Train Epoch: 10 [25600/60000 (43%)]\tLoss: 0.006188\n",
            "Train Epoch: 10 [38400/60000 (64%)]\tLoss: 0.002619\n",
            "Train Epoch: 10 [51200/60000 (85%)]\tLoss: 0.013447\n",
            "Training Loss: 0.0276, Accuracy: 99.09%\n",
            "\n",
            "Test set, Epoch 10, Average loss: 0.0399, Accuracy: 9882/10000 (99%)\n",
            "\n"
          ]
        }
      ]
    },
    {
      "cell_type": "code",
      "source": [
        "torch.manual_seed(1)\n",
        "\n",
        "model_1= CNN()\n",
        "\n",
        "lr = 0.01\n",
        "momentum = 0.5\n",
        "optimizer = optim.SGD(model_1.parameters(), lr=lr, momentum=momentum)\n",
        "m1_loss_arr = []\n",
        "m1_acc_arr = []\n",
        "\n",
        "epochs = 10\n",
        "log_interval = 100\n",
        "for epoch in range(1, epochs + 1):\n",
        "    loss, acc = train(model_1, optimizer, epoch, train_loader, log_interval=log_interval)\n",
        "    m1_loss_arr.append(loss)\n",
        "    m1_acc_arr.append(acc)\n",
        "    test(model_1, epoch, test_loader)"
      ],
      "metadata": {
        "colab": {
          "base_uri": "https://localhost:8080/"
        },
        "id": "awBb_CHpl2Ql",
        "outputId": "4d4455a6-32c7-473c-b2ee-acff45181790"
      },
      "execution_count": 11,
      "outputs": [
        {
          "output_type": "stream",
          "name": "stdout",
          "text": [
            "Train Epoch: 1 [0/60000 (0%)]\tLoss: 2.315159\n",
            "Train Epoch: 1 [6400/60000 (11%)]\tLoss: 1.534601\n",
            "Train Epoch: 1 [12800/60000 (21%)]\tLoss: 0.927839\n",
            "Train Epoch: 1 [19200/60000 (32%)]\tLoss: 0.393550\n",
            "Train Epoch: 1 [25600/60000 (43%)]\tLoss: 0.398120\n",
            "Train Epoch: 1 [32000/60000 (53%)]\tLoss: 0.287560\n",
            "Train Epoch: 1 [38400/60000 (64%)]\tLoss: 0.377310\n",
            "Train Epoch: 1 [44800/60000 (75%)]\tLoss: 0.299902\n",
            "Train Epoch: 1 [51200/60000 (85%)]\tLoss: 0.276705\n",
            "Train Epoch: 1 [57600/60000 (96%)]\tLoss: 0.486123\n",
            "Training Loss: 0.6236, Accuracy: 79.22%\n",
            "\n",
            "Test set, Epoch 1, Average loss: 0.1211, Accuracy: 9627/10000 (96%)\n",
            "\n",
            "Train Epoch: 2 [0/60000 (0%)]\tLoss: 0.278387\n",
            "Train Epoch: 2 [6400/60000 (11%)]\tLoss: 0.218564\n",
            "Train Epoch: 2 [12800/60000 (21%)]\tLoss: 0.162312\n",
            "Train Epoch: 2 [19200/60000 (32%)]\tLoss: 0.185027\n",
            "Train Epoch: 2 [25600/60000 (43%)]\tLoss: 0.157917\n",
            "Train Epoch: 2 [32000/60000 (53%)]\tLoss: 0.142425\n",
            "Train Epoch: 2 [38400/60000 (64%)]\tLoss: 0.311090\n",
            "Train Epoch: 2 [44800/60000 (75%)]\tLoss: 0.296116\n",
            "Train Epoch: 2 [51200/60000 (85%)]\tLoss: 0.166358\n",
            "Train Epoch: 2 [57600/60000 (96%)]\tLoss: 0.105832\n",
            "Training Loss: 0.1912, Accuracy: 94.09%\n",
            "\n",
            "Test set, Epoch 2, Average loss: 0.0727, Accuracy: 9776/10000 (98%)\n",
            "\n",
            "Train Epoch: 3 [0/60000 (0%)]\tLoss: 0.089733\n",
            "Train Epoch: 3 [6400/60000 (11%)]\tLoss: 0.178838\n",
            "Train Epoch: 3 [12800/60000 (21%)]\tLoss: 0.134006\n",
            "Train Epoch: 3 [19200/60000 (32%)]\tLoss: 0.241128\n",
            "Train Epoch: 3 [25600/60000 (43%)]\tLoss: 0.078398\n",
            "Train Epoch: 3 [32000/60000 (53%)]\tLoss: 0.150235\n",
            "Train Epoch: 3 [38400/60000 (64%)]\tLoss: 0.108698\n",
            "Train Epoch: 3 [44800/60000 (75%)]\tLoss: 0.301692\n",
            "Train Epoch: 3 [51200/60000 (85%)]\tLoss: 0.073614\n",
            "Train Epoch: 3 [57600/60000 (96%)]\tLoss: 0.268779\n",
            "Training Loss: 0.1394, Accuracy: 95.70%\n",
            "\n",
            "Test set, Epoch 3, Average loss: 0.0524, Accuracy: 9844/10000 (98%)\n",
            "\n",
            "Train Epoch: 4 [0/60000 (0%)]\tLoss: 0.030847\n",
            "Train Epoch: 4 [6400/60000 (11%)]\tLoss: 0.133375\n",
            "Train Epoch: 4 [12800/60000 (21%)]\tLoss: 0.270010\n",
            "Train Epoch: 4 [19200/60000 (32%)]\tLoss: 0.044879\n",
            "Train Epoch: 4 [25600/60000 (43%)]\tLoss: 0.084239\n",
            "Train Epoch: 4 [32000/60000 (53%)]\tLoss: 0.180919\n",
            "Train Epoch: 4 [38400/60000 (64%)]\tLoss: 0.089120\n",
            "Train Epoch: 4 [44800/60000 (75%)]\tLoss: 0.281778\n",
            "Train Epoch: 4 [51200/60000 (85%)]\tLoss: 0.210120\n",
            "Train Epoch: 4 [57600/60000 (96%)]\tLoss: 0.271450\n",
            "Training Loss: 0.1129, Accuracy: 96.52%\n",
            "\n",
            "Test set, Epoch 4, Average loss: 0.0434, Accuracy: 9870/10000 (99%)\n",
            "\n",
            "Train Epoch: 5 [0/60000 (0%)]\tLoss: 0.106675\n",
            "Train Epoch: 5 [6400/60000 (11%)]\tLoss: 0.043427\n",
            "Train Epoch: 5 [12800/60000 (21%)]\tLoss: 0.099578\n",
            "Train Epoch: 5 [19200/60000 (32%)]\tLoss: 0.064911\n",
            "Train Epoch: 5 [25600/60000 (43%)]\tLoss: 0.015242\n",
            "Train Epoch: 5 [32000/60000 (53%)]\tLoss: 0.009143\n",
            "Train Epoch: 5 [38400/60000 (64%)]\tLoss: 0.043581\n",
            "Train Epoch: 5 [44800/60000 (75%)]\tLoss: 0.155736\n",
            "Train Epoch: 5 [51200/60000 (85%)]\tLoss: 0.094786\n",
            "Train Epoch: 5 [57600/60000 (96%)]\tLoss: 0.076075\n",
            "Training Loss: 0.0968, Accuracy: 97.00%\n",
            "\n",
            "Test set, Epoch 5, Average loss: 0.0393, Accuracy: 9881/10000 (99%)\n",
            "\n",
            "Train Epoch: 6 [0/60000 (0%)]\tLoss: 0.150929\n",
            "Train Epoch: 6 [6400/60000 (11%)]\tLoss: 0.065890\n",
            "Train Epoch: 6 [12800/60000 (21%)]\tLoss: 0.190524\n",
            "Train Epoch: 6 [19200/60000 (32%)]\tLoss: 0.039322\n",
            "Train Epoch: 6 [25600/60000 (43%)]\tLoss: 0.135588\n",
            "Train Epoch: 6 [32000/60000 (53%)]\tLoss: 0.049852\n",
            "Train Epoch: 6 [38400/60000 (64%)]\tLoss: 0.047962\n",
            "Train Epoch: 6 [44800/60000 (75%)]\tLoss: 0.155202\n",
            "Train Epoch: 6 [51200/60000 (85%)]\tLoss: 0.101558\n",
            "Train Epoch: 6 [57600/60000 (96%)]\tLoss: 0.102237\n",
            "Training Loss: 0.0867, Accuracy: 97.30%\n",
            "\n",
            "Test set, Epoch 6, Average loss: 0.0359, Accuracy: 9894/10000 (99%)\n",
            "\n",
            "Train Epoch: 7 [0/60000 (0%)]\tLoss: 0.079061\n",
            "Train Epoch: 7 [6400/60000 (11%)]\tLoss: 0.085942\n",
            "Train Epoch: 7 [12800/60000 (21%)]\tLoss: 0.116822\n",
            "Train Epoch: 7 [19200/60000 (32%)]\tLoss: 0.064611\n",
            "Train Epoch: 7 [25600/60000 (43%)]\tLoss: 0.085178\n",
            "Train Epoch: 7 [32000/60000 (53%)]\tLoss: 0.180788\n",
            "Train Epoch: 7 [38400/60000 (64%)]\tLoss: 0.013578\n",
            "Train Epoch: 7 [44800/60000 (75%)]\tLoss: 0.007208\n",
            "Train Epoch: 7 [51200/60000 (85%)]\tLoss: 0.091925\n",
            "Train Epoch: 7 [57600/60000 (96%)]\tLoss: 0.125430\n",
            "Training Loss: 0.0776, Accuracy: 97.60%\n",
            "\n",
            "Test set, Epoch 7, Average loss: 0.0306, Accuracy: 9904/10000 (99%)\n",
            "\n",
            "Train Epoch: 8 [0/60000 (0%)]\tLoss: 0.117399\n",
            "Train Epoch: 8 [6400/60000 (11%)]\tLoss: 0.113269\n",
            "Train Epoch: 8 [12800/60000 (21%)]\tLoss: 0.112124\n",
            "Train Epoch: 8 [19200/60000 (32%)]\tLoss: 0.012571\n",
            "Train Epoch: 8 [25600/60000 (43%)]\tLoss: 0.032578\n",
            "Train Epoch: 8 [32000/60000 (53%)]\tLoss: 0.087987\n",
            "Train Epoch: 8 [38400/60000 (64%)]\tLoss: 0.002205\n",
            "Train Epoch: 8 [44800/60000 (75%)]\tLoss: 0.043383\n",
            "Train Epoch: 8 [51200/60000 (85%)]\tLoss: 0.048828\n",
            "Train Epoch: 8 [57600/60000 (96%)]\tLoss: 0.095407\n",
            "Training Loss: 0.0730, Accuracy: 97.81%\n",
            "\n",
            "Test set, Epoch 8, Average loss: 0.0281, Accuracy: 9915/10000 (99%)\n",
            "\n",
            "Train Epoch: 9 [0/60000 (0%)]\tLoss: 0.036909\n",
            "Train Epoch: 9 [6400/60000 (11%)]\tLoss: 0.133141\n",
            "Train Epoch: 9 [12800/60000 (21%)]\tLoss: 0.072728\n",
            "Train Epoch: 9 [19200/60000 (32%)]\tLoss: 0.079767\n",
            "Train Epoch: 9 [25600/60000 (43%)]\tLoss: 0.059528\n",
            "Train Epoch: 9 [32000/60000 (53%)]\tLoss: 0.016437\n",
            "Train Epoch: 9 [38400/60000 (64%)]\tLoss: 0.030017\n",
            "Train Epoch: 9 [44800/60000 (75%)]\tLoss: 0.122069\n",
            "Train Epoch: 9 [51200/60000 (85%)]\tLoss: 0.027113\n",
            "Train Epoch: 9 [57600/60000 (96%)]\tLoss: 0.078805\n",
            "Training Loss: 0.0691, Accuracy: 97.86%\n",
            "\n",
            "Test set, Epoch 9, Average loss: 0.0263, Accuracy: 9924/10000 (99%)\n",
            "\n",
            "Train Epoch: 10 [0/60000 (0%)]\tLoss: 0.069275\n",
            "Train Epoch: 10 [6400/60000 (11%)]\tLoss: 0.016233\n",
            "Train Epoch: 10 [12800/60000 (21%)]\tLoss: 0.015318\n",
            "Train Epoch: 10 [19200/60000 (32%)]\tLoss: 0.009642\n",
            "Train Epoch: 10 [25600/60000 (43%)]\tLoss: 0.176605\n",
            "Train Epoch: 10 [32000/60000 (53%)]\tLoss: 0.044744\n",
            "Train Epoch: 10 [38400/60000 (64%)]\tLoss: 0.088370\n",
            "Train Epoch: 10 [44800/60000 (75%)]\tLoss: 0.051799\n",
            "Train Epoch: 10 [51200/60000 (85%)]\tLoss: 0.101000\n",
            "Train Epoch: 10 [57600/60000 (96%)]\tLoss: 0.097498\n",
            "Training Loss: 0.0660, Accuracy: 98.02%\n",
            "\n",
            "Test set, Epoch 10, Average loss: 0.0246, Accuracy: 9925/10000 (99%)\n",
            "\n"
          ]
        }
      ]
    },
    {
      "cell_type": "code",
      "source": [
        "plt.figure(figsize=(12, 6))\n",
        "plt.plot(np.arange(1, len(m0_loss_arr) + 1), m0_loss_arr, color=\"r\", label=\"Model 1\")\n",
        "plt.plot(np.arange(1, len(m1_loss_arr) + 1), m1_loss_arr, color=\"g\", label=\"Model 2\")\n",
        "plt.title('Model Loss Comparison')\n",
        "plt.xlabel('Epoch')\n",
        "plt.ylabel('Loss')\n",
        "plt.legend(loc=\"upper right\")\n",
        "plt.grid(True)\n",
        "plt.show()\n"
      ],
      "metadata": {
        "colab": {
          "base_uri": "https://localhost:8080/",
          "height": 564
        },
        "id": "mpapRBEor9Fb",
        "outputId": "249fcaa5-3074-4b7a-c621-87cb9b718645"
      },
      "execution_count": 13,
      "outputs": [
        {
          "output_type": "display_data",
          "data": {
            "text/plain": [
              "<Figure size 1200x600 with 1 Axes>"
            ],
            "image/png": "[encoded data removed]"
          },
          "metadata": {}
        }
      ]
    },
    {
      "cell_type": "code",
      "source": [
        "plt.figure(figsize=(12, 6))\n",
        "epochs_range = np.arange(1, len(m0_acc_arr) + 1)\n",
        "plt.plot(epochs_range, m0_acc_arr, color=\"r\", label=\"Model 1\")\n",
        "plt.plot(epochs_range, m1_acc_arr, color=\"g\", label=\"Model 2\")\n",
        "plt.title('Model Accuracy Comparison')\n",
        "plt.xlabel('Epoch')\n",
        "plt.ylabel('Accuracy (%)')  # Assuming accuracy is in percentage\n",
        "plt.legend(loc=\"upper left\")\n",
        "plt.grid(True)  # Adding a grid for better readability\n",
        "plt.show()\n"
      ],
      "metadata": {
        "colab": {
          "base_uri": "https://localhost:8080/",
          "height": 564
        },
        "id": "17sZywGOsH9l",
        "outputId": "b8275bb6-1ce1-4f02-86e1-01ef925f7966"
      },
      "execution_count": 15,
      "outputs": [
        {
          "output_type": "display_data",
          "data": {
            "text/plain": [
              "<Figure size 1200x600 with 1 Axes>"
            ],
            "image/png": "[encoded data removed]"
          },
          "metadata": {}
        }
      ]
    }
  ]
}