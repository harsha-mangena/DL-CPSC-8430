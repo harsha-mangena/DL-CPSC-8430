{
  "cells": [
    {
      "cell_type": "code",
      "execution_count": 2,
      "metadata": {
        "id": "kW3lTPNGOFe7"
      },
      "outputs": [],
      "source": [
        "import torch\n",
        "import torch.nn as nn\n",
        "import torch.optim as optim\n",
        "from torchvision import datasets, transforms\n",
        "from torch.autograd import Variable\n",
        "from PIL import Image\n",
        "import torch.nn.functional as F\n",
        "import numpy as np\n",
        "import matplotlib.pyplot as plt\n",
        "import os"
      ]
    },
    {
      "cell_type": "code",
      "execution_count": 3,
      "metadata": {
        "id": "oDPBjST4OFe8"
      },
      "outputs": [],
      "source": [
        "torch.manual_seed(1)\n",
        "os.environ['KMP_DUPLICATE_LIB_OK']='True'"
      ]
    },
    {
      "cell_type": "code",
      "execution_count": 4,
      "metadata": {
        "id": "JAGmPrLSOFe9"
      },
      "outputs": [],
      "source": [
        "def load_data(train_batch_size, test_batch_size):\n",
        "    # Fetch training data: total 60000 samples\n",
        "\n",
        "    trainset = datasets.MNIST('data', train = True, download = True,\n",
        "                transform = transforms.Compose([\n",
        "                transforms.ToTensor()\n",
        "                ]))\n",
        "    train_loader = torch.utils.data.DataLoader(trainset, batch_size = train_batch_size, shuffle=True, num_workers=8)\n",
        "\n",
        "    testset = datasets.MNIST('data', train = False, download = True,\n",
        "                transform = transforms.Compose([\n",
        "                transforms.ToTensor()\n",
        "                ]))\n",
        "    test_loader = torch.utils.data.DataLoader(testset ,batch_size = test_batch_size, shuffle=True, num_workers=8)\n",
        "\n",
        "    return (train_loader, test_loader)"
      ]
    },
    {
      "cell_type": "code",
      "execution_count": 5,
      "metadata": {
        "id": "hzuAwVvnOFe9"
      },
      "outputs": [],
      "source": [
        "class FlexibleModel(nn.Module):\n",
        "    def __init__(self, input_size, layer_sizes):\n",
        "        \"\"\"\n",
        "        Initializes a flexible neural network model.\n",
        "\n",
        "        Parameters:\n",
        "        - input_size (int): The size of the input layer.\n",
        "        - layer_sizes (list of int): A list containing the sizes of the hidden and output layers.\n",
        "        \"\"\"\n",
        "        super(FlexibleModel, self).__init__()\n",
        "        self.layers = nn.ModuleList()\n",
        "        # Create layers based on the provided sizes\n",
        "        for i in range(len(layer_sizes)):\n",
        "            # Input layer to the first hidden layer or connecting between hidden layers\n",
        "            prev_size = input_size if i == 0 else layer_sizes[i-1]\n",
        "            self.layers.append(nn.Linear(prev_size, layer_sizes[i]))\n",
        "\n",
        "    def forward(self, x):\n",
        "        \"\"\"\n",
        "        Defines the forward pass of the model.\n",
        "\n",
        "        Parameters:\n",
        "        - x (Tensor): The input tensor.\n",
        "\n",
        "        Returns:\n",
        "        - Tensor: The output of the model.\n",
        "        \"\"\"\n",
        "        # Pass input through all layers except the last using ReLU activation\n",
        "        for layer in self.layers[:-1]:\n",
        "            x = F.relu(layer(x))\n",
        "        # No activation for the last layer\n",
        "        x = self.layers[-1](x)\n",
        "        return x\n"
      ]
    },
    {
      "cell_type": "code",
      "execution_count": 6,
      "metadata": {
        "colab": {
          "base_uri": "https://localhost:8080/"
        },
        "id": "ckch2PtoOFe9",
        "outputId": "90a0fe7b-1678-4ea9-c2b6-118118c8a1a3"
      },
      "outputs": [
        {
          "output_type": "stream",
          "name": "stdout",
          "text": [
            "Downloading http://yann.lecun.com/exdb/mnist/train-images-idx3-ubyte.gz\n",
            "Downloading http://yann.lecun.com/exdb/mnist/train-images-idx3-ubyte.gz to data/MNIST/raw/train-images-idx3-ubyte.gz\n"
          ]
        },
        {
          "output_type": "stream",
          "name": "stderr",
          "text": [
            "100%|██████████| 9912422/9912422 [00:00<00:00, 140499304.68it/s]"
          ]
        },
        {
          "output_type": "stream",
          "name": "stdout",
          "text": [
            "Extracting data/MNIST/raw/train-images-idx3-ubyte.gz to data/MNIST/raw\n"
          ]
        },
        {
          "output_type": "stream",
          "name": "stderr",
          "text": [
            "\n"
          ]
        },
        {
          "output_type": "stream",
          "name": "stdout",
          "text": [
            "\n",
            "Downloading http://yann.lecun.com/exdb/mnist/train-labels-idx1-ubyte.gz\n",
            "Downloading http://yann.lecun.com/exdb/mnist/train-labels-idx1-ubyte.gz to data/MNIST/raw/train-labels-idx1-ubyte.gz\n"
          ]
        },
        {
          "output_type": "stream",
          "name": "stderr",
          "text": [
            "100%|██████████| 28881/28881 [00:00<00:00, 27911450.19it/s]\n"
          ]
        },
        {
          "output_type": "stream",
          "name": "stdout",
          "text": [
            "Extracting data/MNIST/raw/train-labels-idx1-ubyte.gz to data/MNIST/raw\n",
            "\n",
            "Downloading http://yann.lecun.com/exdb/mnist/t10k-images-idx3-ubyte.gz\n",
            "Downloading http://yann.lecun.com/exdb/mnist/t10k-images-idx3-ubyte.gz to data/MNIST/raw/t10k-images-idx3-ubyte.gz\n"
          ]
        },
        {
          "output_type": "stream",
          "name": "stderr",
          "text": [
            "100%|██████████| 1648877/1648877 [00:00<00:00, 151408616.95it/s]"
          ]
        },
        {
          "output_type": "stream",
          "name": "stdout",
          "text": [
            "Extracting data/MNIST/raw/t10k-images-idx3-ubyte.gz to data/MNIST/raw\n"
          ]
        },
        {
          "output_type": "stream",
          "name": "stderr",
          "text": [
            "\n"
          ]
        },
        {
          "output_type": "stream",
          "name": "stdout",
          "text": [
            "\n",
            "Downloading http://yann.lecun.com/exdb/mnist/t10k-labels-idx1-ubyte.gz\n",
            "Downloading http://yann.lecun.com/exdb/mnist/t10k-labels-idx1-ubyte.gz to data/MNIST/raw/t10k-labels-idx1-ubyte.gz\n"
          ]
        },
        {
          "output_type": "stream",
          "name": "stderr",
          "text": [
            "100%|██████████| 4542/4542 [00:00<00:00, 7550744.66it/s]\n"
          ]
        },
        {
          "output_type": "stream",
          "name": "stdout",
          "text": [
            "Extracting data/MNIST/raw/t10k-labels-idx1-ubyte.gz to data/MNIST/raw\n",
            "\n"
          ]
        },
        {
          "output_type": "stream",
          "name": "stderr",
          "text": [
            "/usr/local/lib/python3.10/dist-packages/torch/utils/data/dataloader.py:557: UserWarning: This DataLoader will create 8 worker processes in total. Our suggested max number of worker in current system is 2, which is smaller than what this DataLoader is going to create. Please be aware that excessive worker creation might get DataLoader running slow or even freeze, lower the worker number to avoid potential slowness/freeze if necessary.\n",
            "  warnings.warn(_create_warning_msg(\n"
          ]
        }
      ],
      "source": [
        "train_batch_size = 50\n",
        "test_batch_size = 100\n",
        "train_loader, test_loader = load_data(train_batch_size, test_batch_size)\n",
        "epochs = 10"
      ]
    },
    {
      "cell_type": "code",
      "execution_count": 7,
      "metadata": {
        "id": "wMFJj-TnOFe9"
      },
      "outputs": [],
      "source": [
        "def calc_params(model):\n",
        "    return sum(p.numel() for p in model.parameters())\n",
        "def define_optimizer(model):\n",
        "    return optim.Adam(model.parameters(), lr = 0.0001)"
      ]
    },
    {
      "cell_type": "code",
      "execution_count": 8,
      "metadata": {
        "id": "hzFxf0U2OFe-"
      },
      "outputs": [],
      "source": [
        "def train(model, optimizer, train_loader, loss_fn):\n",
        "    model.train()\n",
        "\n",
        "    for batch_idx, (data, target) in enumerate(train_loader):\n",
        "        data, target = Variable(data), Variable(target)\n",
        "        optimizer.zero_grad()\n",
        "\n",
        "        # Forward propagation\n",
        "        output = model(data.view(-1, 784))\n",
        "        loss = loss_fn(output, target)\n",
        "        loss.backward()\n",
        "        optimizer.step()"
      ]
    },
    {
      "cell_type": "code",
      "execution_count": 9,
      "metadata": {
        "id": "ypaM1pijOFe-"
      },
      "outputs": [],
      "source": [
        "def calculate_loss(model, loader, loss_fn):\n",
        "    correct = 0\n",
        "    total = 0\n",
        "    costTotal = 0\n",
        "    costCounter = 0\n",
        "    with torch.no_grad():\n",
        "        for batch in loader:\n",
        "            data, target = batch\n",
        "            output = model(data.view(-1, 784))\n",
        "            cost = loss_fn(output, target)\n",
        "            costTotal += cost\n",
        "            costCounter += 1\n",
        "            for i, outputTensor in enumerate(output):\n",
        "                if torch.argmax(outputTensor) == target[i]:\n",
        "                    correct += 1\n",
        "                total += 1\n",
        "    return costTotal / costCounter, round(correct/total, 3)"
      ]
    },
    {
      "cell_type": "code",
      "execution_count": 10,
      "metadata": {
        "id": "337a7_ZQOFe-"
      },
      "outputs": [],
      "source": [
        "def compute(model, optimizer):\n",
        "    loss_fn = torch.nn.CrossEntropyLoss()\n",
        "    for epoch in range(1, epochs + 1):\n",
        "        train(model, optimizer, train_loader, loss_fn)\n",
        "        train_loss, train_acc = calculate_loss(model, train_loader, loss_fn)\n",
        "        test_loss, test_acc = calculate_loss(model, test_loader, loss_fn)\n",
        "    loss_train_arr.append(train_loss)\n",
        "    loss_test_arr.append(test_loss)\n",
        "    param_arr.append(calc_params(model))\n",
        "    print(\"Model Train loss: \", train_loss)\n",
        "    print(\"Model Test loss: \", test_loss)\n",
        "    train_acc_arr.append(train_acc)\n",
        "    test_acc_arr.append(test_acc)\n"
      ]
    },
    {
      "cell_type": "code",
      "execution_count": 11,
      "metadata": {
        "id": "T37b0y0FOFe-"
      },
      "outputs": [],
      "source": [
        "loss_train_arr = []\n",
        "loss_test_arr = []\n",
        "param_arr = []\n",
        "test_acc_arr = []\n",
        "train_acc_arr = []"
      ]
    },
    {
      "cell_type": "code",
      "execution_count": 12,
      "metadata": {
        "colab": {
          "base_uri": "https://localhost:8080/"
        },
        "id": "BKO7IEoIOFe-",
        "outputId": "faa2209d-5cec-4b92-e3c9-f88c1e747693"
      },
      "outputs": [
        {
          "output_type": "stream",
          "name": "stdout",
          "text": [
            "Model 1 parameters:  4079\n",
            "Model Train loss:  tensor(0.5745)\n",
            "Model Test loss:  tensor(0.5505)\n",
            "Model 2 parameters:  21435\n",
            "Model Train loss:  tensor(0.2153)\n",
            "Model Test loss:  tensor(0.2150)\n",
            "Model 3 parameters:  45360\n",
            "Model Train loss:  tensor(0.1684)\n",
            "Model Test loss:  tensor(0.1770)\n",
            "Model 4 parameters:  55630\n",
            "Model Train loss:  tensor(0.1564)\n",
            "Model Test loss:  tensor(0.1648)\n",
            "Model 5 parameters:  100710\n",
            "Model Train loss:  tensor(0.1144)\n",
            "Model Test loss:  tensor(0.1286)\n",
            "Model 6 parameters:  166060\n",
            "Model Train loss:  tensor(0.0829)\n",
            "Model Test loss:  tensor(0.1050)\n",
            "Model 7 parameters:  241410\n",
            "Model Train loss:  tensor(0.0698)\n",
            "Model Test loss:  tensor(0.0958)\n",
            "Model 8 parameters:  326760\n",
            "Model Train loss:  tensor(0.0518)\n",
            "Model Test loss:  tensor(0.0828)\n",
            "Model 9 parameters:  382770\n",
            "Model Train loss:  tensor(0.0430)\n",
            "Model Test loss:  tensor(0.0723)\n",
            "Model 10 parameters:  491360\n",
            "Model Train loss:  tensor(0.0378)\n",
            "Model Test loss:  tensor(0.0733)\n"
          ]
        }
      ],
      "source": [
        "# Configuration for each model could be a tuple/list of layer sizes\n",
        "model_configurations = [\n",
        "    [5, 9, 10],\n",
        "    [25, 50, 10],\n",
        "    [50, 100, 10],\n",
        "    [60, 120, 10],\n",
        "    [100, 200, 10],\n",
        "    [150, 300, 10],\n",
        "    [200, 400, 10],\n",
        "    [250, 500, 10],\n",
        "    [280, 560, 10],\n",
        "    [350, 600, 10]\n",
        "]\n",
        "\n",
        "# Set the seed once for reproducibility\n",
        "torch.manual_seed(1)\n",
        "\n",
        "# Iterate over the model configurations\n",
        "for i, config in enumerate(model_configurations, 1):\n",
        "    model = FlexibleModel(784, config)\n",
        "    print(f\"Model {i} parameters: \", calc_params(model))\n",
        "    optimizer = define_optimizer(model)\n",
        "    compute(model, optimizer)\n"
      ]
    },
    {
      "cell_type": "code",
      "execution_count": 19,
      "metadata": {
        "id": "Gu7WsWQAOFe-"
      },
      "outputs": [],
      "source": [
        "temp_1 = []\n",
        "for i in loss_train_arr:\n",
        "    temp_1.append(i.data.numpy().tolist())\n",
        "\n",
        "temp_2 = []\n",
        "for i in loss_test_arr:\n",
        "    temp_2.append(i.data.numpy().tolist())"
      ]
    },
    {
      "cell_type": "code",
      "execution_count": 23,
      "metadata": {
        "id": "HVnFyLcyOFe_",
        "colab": {
          "base_uri": "https://localhost:8080/",
          "height": 564
        },
        "outputId": "cdc1eebb-14d1-4c5d-89fc-3fe294592d44"
      },
      "outputs": [
        {
          "output_type": "display_data",
          "data": {
            "text/plain": [
              "<Figure size 1200x600 with 1 Axes>"
            ],
            "image/png": "[encoded data removed]"
          },
          "metadata": {}
        }
      ],
      "source": [
        "plt.figure(figsize=(12,6))\n",
        "plt.scatter(param_arr, temp_1, color = \"r\")\n",
        "plt.scatter(param_arr, temp_2, color = \"g\")\n",
        "plt.title('Model Loss Comparision')\n",
        "plt.legend(['Train Loss', 'Test Loss'])\n",
        "plt.xlabel('Parameters')\n",
        "plt.ylabel('Loss')\n",
        "plt.grid(True)\n",
        "plt.show()"
      ]
    },
    {
      "cell_type": "code",
      "execution_count": 16,
      "metadata": {
        "id": "ZzEJd1L5OFe_",
        "colab": {
          "base_uri": "https://localhost:8080/",
          "height": 564
        },
        "outputId": "b35a5b96-f63e-4f9c-944b-4dbcf1f8f9e3"
      },
      "outputs": [
        {
          "output_type": "display_data",
          "data": {
            "text/plain": [
              "<Figure size 1200x600 with 1 Axes>"
            ],
            "image/png": "[encoded data removed]"
          },
          "metadata": {}
        }
      ],
      "source": [
        "plt.figure(figsize=(12, 6))\n",
        "plt.scatter(param_arr, train_acc_arr, color=\"r\", marker='o', alpha=0.7, label='Train Accuracy')\n",
        "plt.scatter(param_arr, test_acc_arr, color=\"g\", marker='x', alpha=0.7, label='Test Accuracy')\n",
        "plt.title('Model Accuracy Comparison')\n",
        "plt.legend()\n",
        "plt.xlabel('Parameters')\n",
        "plt.ylabel('Accuracy (%)')\n",
        "plt.grid(True)  # Adding grid for better readability\n",
        "plt.show()"
      ]
    },
    {
      "cell_type": "code",
      "execution_count": 15,
      "metadata": {
        "id": "w9pyDGfROFe_"
      },
      "outputs": [],
      "source": []
    }
  ],
  "metadata": {
    "interpreter": {
      "hash": "5bcb6c7cbbdabfbd239545406bf14933d83f61910dc16e50b2bdd97eecb45211"
    },
    "kernelspec": {
      "display_name": "Python 3",
      "name": "python3"
    },
    "language_info": {
      "codemirror_mode": {
        "name": "ipython",
        "version": 3
      },
      "file_extension": ".py",
      "mimetype": "text/x-python",
      "name": "python",
      "nbconvert_exporter": "python",
      "pygments_lexer": "ipython3",
      "version": "3.8.3"
    },
    "orig_nbformat": 4,
    "colab": {
      "provenance": []
    }
  },
  "nbformat": 4,
  "nbformat_minor": 0
}